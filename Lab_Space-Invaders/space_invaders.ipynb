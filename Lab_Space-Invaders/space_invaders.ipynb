{
 "cells": [
  {
   "cell_type": "code",
   "execution_count": 18,
   "metadata": {},
   "outputs": [],
   "source": [
    "import tensorflow as tf\n",
    "import keras\n",
    "from keras import layers\n",
    "import gymnasium as gym\n",
    "import ale_py\n",
    "import cv2\n",
    "import numpy as np\n",
    "from gymnasium.wrappers.atari_preprocessing import AtariPreprocessing\n",
    "from gymnasium.wrappers.frame_stack import FrameStack\n",
    "from gymnasium import ObservationWrapper\n",
    "\n",
    "gym.register_envs(ale_py)"
   ]
  },
  {
   "cell_type": "code",
   "execution_count": 19,
   "metadata": {},
   "outputs": [],
   "source": [
    "# env = gym.make('SpaceInvadersNoFrameskip-v4', render_mode='human')\n",
    "\n",
    "# observation, info = env.reset()\n",
    "\n",
    "# episode_over = False\n",
    "# while not episode_over:\n",
    "#     action = env.action_space.sample()\n",
    "#     observation, reward, terminated, truncated, info = env.step(action)\n",
    "\n",
    "#     episode_over = terminated or truncated\n",
    "\n",
    "# env.close()"
   ]
  },
  {
   "cell_type": "code",
   "execution_count": 20,
   "metadata": {},
   "outputs": [],
   "source": [
    "env = gym.make(\"SpaceInvadersNoFrameskip-v4\", render_mode=\"rgb_array\")\n",
    "env = AtariPreprocessing(env)\n",
    "env = FrameStack(env, num_stack=4)\n",
    "\n",
    "num_actions = env.action_space.n\n",
    "trigger = lambda t: t & 20\n",
    "env = gym.wrappers.RecordVideo(env, video_folder=\"./videos\", episode_trigger=trigger, disable_logger=True)"
   ]
  },
  {
   "cell_type": "code",
   "execution_count": 21,
   "metadata": {},
   "outputs": [],
   "source": [
    "def create_q_model():\n",
    "    return keras.Sequential(\n",
    "        [\n",
    "            keras.Input(shape=(84, 84, 4)),\n",
    "            layers.Conv2D(32, kernel_size=8, strides=4, activation=\"relu\"),\n",
    "            layers.Conv2D(64, kernel_size=4, strides=2, activation=\"relu\"),\n",
    "            layers.Conv2D(64, kernel_size=3, strides=1, activation=\"relu\"),\n",
    "            layers.Flatten(),\n",
    "            layers.Dense(512, activation=\"relu\"),\n",
    "            layers.Dense(num_actions, activation=\"linear\"),\n",
    "        ]\n",
    "    )"
   ]
  },
  {
   "cell_type": "code",
   "execution_count": 22,
   "metadata": {},
   "outputs": [],
   "source": [
    "model = create_q_model()\n",
    "model_target = create_q_model()\n",
    "\n",
    "optimizer = keras.optimizers.Adam(learning_rate=0.00025, clipnorm=1.0)"
   ]
  },
  {
   "cell_type": "code",
   "execution_count": 23,
   "metadata": {},
   "outputs": [],
   "source": [
    "action_history = []\n",
    "state_history = []\n",
    "state_next_history = []\n",
    "rewards_history = []\n",
    "episode_reward_history = []\n",
    "done_history = []\n",
    "running_reward = 0\n",
    "episode_count = 0\n",
    "frame_count = 0"
   ]
  },
  {
   "cell_type": "code",
   "execution_count": null,
   "metadata": {},
   "outputs": [],
   "source": [
    "gamma = 0.99\n",
    "epsilon = 1.0\n",
    "epsilon_min = 0.1\n",
    "epsilon_max = 1.0\n",
    "epsilon_interval = epsilon_max - epsilon_min\n",
    "batch_size = 32 # Enlarge (maybe) for better performance\n",
    "\n",
    "# Maximun episodes to run, set to zero means run till solved\n",
    "max_episodes = 0\n",
    "# Max frames to run\n",
    "max_frames = 1e7\n",
    "\n",
    "# Number of frames to take random actions and observe output\n",
    "epsilon_random_frames = 1e5 # Exploring longer before exploitation\n",
    "# Number of frames for exploration\n",
    "epsilon_greedy_frames = 2e6 # Slow down epsilon decay\n",
    "# Maximum length of replay buffer\n",
    "max_memory_length = 1e6\n",
    "# Abort if more than the below frames are spent in a single game (results in truncated = True)\n",
    "max_steps_per_episode = 10000\n",
    "# How often should the action network be updated\n",
    "update_after_actions = 4\n",
    "# How often should the Q-network be cloned from the action network?\n",
    "update_target_network = 10000\n",
    "# Use Huber loss for stability (specifically for Adam)\n",
    "loss_function = keras.losses.Huber()"
   ]
  },
  {
   "cell_type": "code",
   "execution_count": 25,
   "metadata": {},
   "outputs": [
    {
     "name": "stdout",
     "output_type": "stream",
     "text": [
      "(None, 84, 84, 4)\n"
     ]
    }
   ],
   "source": [
    "print(model_target.input_shape)"
   ]
  },
  {
   "cell_type": "code",
   "execution_count": null,
   "metadata": {},
   "outputs": [
    {
     "data": {
      "text/plain": [
       "<function __main__.preprocess_frame(frame, prev_frame=None)>"
      ]
     },
     "execution_count": 39,
     "metadata": {},
     "output_type": "execute_result"
    }
   ],
   "source": [
    "# # Function for preprocessing\n",
    "# def preprocess_frame(frame, prev_frame=None):\n",
    "#     # Ensure frame is a numpy array\n",
    "#     frame = np.array(frame)\n",
    "#     # Convert to grayscale\n",
    "#     frame = cv2.cvtColor(frame, cv2.COLOR_RGB2GRAY)\n",
    "#     # Normalize to 0-1\n",
    "#     frame = frame / 255.0\n",
    "#     # Resize to 84x84\n",
    "#     frame = cv2.resize(frame, (84, 84), interpolation=cv2.INTER_AREA)\n",
    "#     # Frame differencing (if previous frame exists)\n",
    "#     if prev_frame is not None:\n",
    "#         frame = frame - prev_frame\n",
    "#     return frame\n",
    "    "
   ]
  },
  {
   "cell_type": "code",
   "execution_count": null,
   "metadata": {},
   "outputs": [],
   "source": [
    "# Replay buffer (Segmented sampling)\n",
    "\n",
    "class ReplayBuffer:\n",
    "    def __init__(self, max_length):\n",
    "        self.buffer = []\n",
    "        self.priorities = [] # Holds TD errors or priorities\n",
    "        self.max_length = max_length\n",
    "\n",
    "    def add()"
   ]
  },
  {
   "cell_type": "code",
   "execution_count": null,
   "metadata": {},
   "outputs": [
    {
     "ename": "error",
     "evalue": "OpenCV(4.10.0) d:\\a\\opencv-python\\opencv-python\\opencv\\modules\\imgproc\\src\\color.simd_helpers.hpp:92: error: (-2:Unspecified error) in function '__cdecl cv::impl::`anonymous-namespace'::CvtHelper<struct cv::impl::`anonymous namespace'::Set<3,4,-1>,struct cv::impl::A0x46dff480::Set<1,-1,-1>,struct cv::impl::A0x46dff480::Set<0,2,5>,4>::CvtHelper(const class cv::_InputArray &,const class cv::_OutputArray &,int)'\n> Invalid number of channels in input image:\n>     'VScn::contains(scn)'\n> where\n>     'scn' is 84\n",
     "output_type": "error",
     "traceback": [
      "\u001b[1;31m---------------------------------------------------------------------------\u001b[0m",
      "\u001b[1;31merror\u001b[0m                                     Traceback (most recent call last)",
      "Cell \u001b[1;32mIn[41], line 21\u001b[0m\n\u001b[0;32m     19\u001b[0m \u001b[38;5;28;01mwhile\u001b[39;00m \u001b[38;5;28;01mTrue\u001b[39;00m:\n\u001b[0;32m     20\u001b[0m     observation, _ \u001b[38;5;241m=\u001b[39m env\u001b[38;5;241m.\u001b[39mreset()\n\u001b[1;32m---> 21\u001b[0m     state \u001b[38;5;241m=\u001b[39m \u001b[43mpreprocess_frame\u001b[49m\u001b[43m(\u001b[49m\u001b[43mobservation\u001b[49m\u001b[43m)\u001b[49m \u001b[38;5;66;03m# Preprocess the initial state\u001b[39;00m\n\u001b[0;32m     22\u001b[0m     prev_frame \u001b[38;5;241m=\u001b[39m state\n\u001b[0;32m     23\u001b[0m     episode_reward \u001b[38;5;241m=\u001b[39m \u001b[38;5;241m0\u001b[39m\n",
      "Cell \u001b[1;32mIn[41], line 6\u001b[0m, in \u001b[0;36mpreprocess_frame\u001b[1;34m(frame, prev_frame)\u001b[0m\n\u001b[0;32m      4\u001b[0m frame \u001b[38;5;241m=\u001b[39m np\u001b[38;5;241m.\u001b[39marray(frame)\n\u001b[0;32m      5\u001b[0m \u001b[38;5;66;03m# Convert to grayscale\u001b[39;00m\n\u001b[1;32m----> 6\u001b[0m frame \u001b[38;5;241m=\u001b[39m \u001b[43mcv2\u001b[49m\u001b[38;5;241;43m.\u001b[39;49m\u001b[43mcvtColor\u001b[49m\u001b[43m(\u001b[49m\u001b[43mframe\u001b[49m\u001b[43m,\u001b[49m\u001b[43m \u001b[49m\u001b[43mcv2\u001b[49m\u001b[38;5;241;43m.\u001b[39;49m\u001b[43mCOLOR_RGB2GRAY\u001b[49m\u001b[43m)\u001b[49m\n\u001b[0;32m      7\u001b[0m \u001b[38;5;66;03m# Normalize to 0-1\u001b[39;00m\n\u001b[0;32m      8\u001b[0m frame \u001b[38;5;241m=\u001b[39m frame \u001b[38;5;241m/\u001b[39m \u001b[38;5;241m255.0\u001b[39m\n",
      "\u001b[1;31merror\u001b[0m: OpenCV(4.10.0) d:\\a\\opencv-python\\opencv-python\\opencv\\modules\\imgproc\\src\\color.simd_helpers.hpp:92: error: (-2:Unspecified error) in function '__cdecl cv::impl::`anonymous-namespace'::CvtHelper<struct cv::impl::`anonymous namespace'::Set<3,4,-1>,struct cv::impl::A0x46dff480::Set<1,-1,-1>,struct cv::impl::A0x46dff480::Set<0,2,5>,4>::CvtHelper(const class cv::_InputArray &,const class cv::_OutputArray &,int)'\n> Invalid number of channels in input image:\n>     'VScn::contains(scn)'\n> where\n>     'scn' is 84\n"
     ]
    }
   ],
   "source": [
    "# prev_frame = None\n",
    "while True:\n",
    "    observation, _ = env.reset()\n",
    "    state = preprocess_frame(observation) # Preprocess the initial state\n",
    "    # prev_frame = state\n",
    "    episode_reward = 0\n",
    "\n",
    "    for timestep in range(1, max_steps_per_episode):\n",
    "        frame_count += 1\n",
    "\n",
    "        if frame_count < epsilon_random_frames or epsilon > np.random.rand(1)[0]:\n",
    "            # Take random action\n",
    "            action = np.random.choice(num_actions)\n",
    "        else:\n",
    "            state_tensor = tf.convert_to_tensor(state, dtype=tf.float32)\n",
    "            # Ensure the state tensor has the correct shape (batch_size, height, width, channels)\n",
    "            state_tensor = tf.transpose(state_tensor, perm=[1, 2, 0])  # Change to (84, 84, 4)\n",
    "            state_tensor = tf.expand_dims(state_tensor, axis=0)  # Add batch dimension\n",
    "            action_probs = model(state_tensor, training=False)\n",
    "            # Take best action\n",
    "            action = keras.ops.argmax(action_probs[0].numpy())\n",
    "\n",
    "        # Perform the action and get the next frame\n",
    "        observation, reward, done, _, _ = env.step(action)\n",
    "\n",
    "        # Preprocess the next frame\n",
    "        preprocess_frame = preprocess_frame(observation, prev_frame)\n",
    "        prev_frame = preprocess_frame # Update the previous frame\n",
    "\n",
    "        # Store the preprocessed frame in the replay buffer\n",
    "        state_next = np.array(preprocess_frame)\n",
    "        \n",
    "        epsilon -= epsilon_interval / epsilon_greedy_frames\n",
    "        epsilon = max(epsilon, epsilon_min)\n",
    "\n",
    "        state_next, reward, done, _, _ = env.step(action)\n",
    "        state_next = np.array(state_next)\n",
    "\n",
    "        episode_reward += reward\n",
    "\n",
    "        # Replay buffer \n",
    "        action_history.append(action)\n",
    "        state_history.append(state)\n",
    "        state_next_history.append(state_next)\n",
    "        done_history.append(done)\n",
    "        rewards_history.append(reward)\n",
    "        \n",
    "        # Update state\n",
    "        state = state_next\n",
    "\n",
    "        if frame_count % update_after_actions == 0 and len(done_history) > batch_size:\n",
    "            # get indices of samples for replay buffers\n",
    "            indices = np.random.choice(range(len(done_history)), size=batch_size)\n",
    "\n",
    "            # Prepare batches\n",
    "            state_sample = np.array([state_history[i] for i in indices])\n",
    "            state_sample = tf.transpose(state_sample, perm=[0, 2, 3, 1]) # Correct shape\n",
    "            state_sample = tf.cast(state_sample, tf.float32) # Ensure the tensor has the correct data type (float32)\n",
    "            \n",
    "            state_next_sample = np.array([state_next_history[i] for i in indices])\n",
    "            state_next_sample = tf.transpose(state_next_sample, perm=[0, 2, 3, 1]) # Correct shape\n",
    "            state_next_sample = tf.cast(state_next_sample, tf.float32) # Ensure float32\n",
    "            \n",
    "            rewards_sample = np.array([rewards_history[i] for i in indices])\n",
    "            action_sample = np.array([action_history[i] for i in indices])\n",
    "            done_sample = tf.convert_to_tensor([float(done_history[i]) for i in indices])\n",
    "\n",
    "            # Predict Q-values for the next states\n",
    "            future_rewards = model_target.predict(state_next_sample, verbose=0)\n",
    "            \n",
    "            # Update Q values\n",
    "            updated_q_values = rewards_sample + gamma * tf.reduce_max(future_rewards, axis=1)\n",
    "            updated_q_values = updated_q_values * (1 - done_sample) # Mask terminal states \n",
    "\n",
    "            # One-hot encoding of actions\n",
    "            masks = tf.one_hot(action_sample, num_actions)\n",
    "\n",
    "            with tf.GradientTape() as tape:\n",
    "                # Compute loss\n",
    "                q_values = model(state_sample)\n",
    "                q_action = tf.reduce_sum(tf.multiply(q_values, masks), axis=1)\n",
    "                loss = loss_function(updated_q_values, q_action)\n",
    "\n",
    "            # Backpropagation    \n",
    "            grads = tape.gradient(loss, model.trainable_variables)\n",
    "            optimizer.apply_gradients(zip(grads, model.trainable_variables))\n",
    "        \n",
    "        if frame_count % update_target_network == 0:\n",
    "            model_target.set_weights(model.get_weights())\n",
    "            print(f\"Best score of last 100: {np.max(episode_reward_history)}, running reward: {running_reward} at episode {episode_count}, frame {frame_count}\")\n",
    "            model.save(f\"Space-Invaders_q_model{episode_count}.keras\")\n",
    "\n",
    "        if len(rewards_history) > max_memory_length:\n",
    "            del rewards_history[:1]\n",
    "            del state_history[:1]\n",
    "            del state_next_history[:1]\n",
    "            del action_history[:1]\n",
    "            del done_history[:1]\n",
    "\n",
    "        if done:\n",
    "            break\n",
    "        \n",
    "    episode_reward_history.append(episode_reward)\n",
    "    if len(episode_reward_history) > 100:\n",
    "        del episode_reward_history[:1]\n",
    "    running_reward = np.mean(episode_reward_history)\n",
    "\n",
    "    episode_count += 1\n",
    "\n",
    "    if running_reward > 200:\n",
    "        print(f\"Solved at episode {episode_count}!\")\n",
    "        model.save(f\"Space-Invaders_q_model_solved.keras\")\n",
    "        break\n",
    "\n",
    "    if (max_episodes > 0 and episode_count >= max_episodes):\n",
    "        print(f\"Stopped at episode {episode_count}!\")\n",
    "        break\n",
    "    if (max_frames > 0 and frame_count >= max_frames):\n",
    "        print(f\"Stopped at frame {frame_count}!\")\n",
    "        break"
   ]
  }
 ],
 "metadata": {
  "kernelspec": {
   "display_name": "Python 3",
   "language": "python",
   "name": "python3"
  },
  "language_info": {
   "codemirror_mode": {
    "name": "ipython",
    "version": 3
   },
   "file_extension": ".py",
   "mimetype": "text/x-python",
   "name": "python",
   "nbconvert_exporter": "python",
   "pygments_lexer": "ipython3",
   "version": "3.11.5"
  }
 },
 "nbformat": 4,
 "nbformat_minor": 2
}
