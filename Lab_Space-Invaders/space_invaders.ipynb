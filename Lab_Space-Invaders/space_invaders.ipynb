{
 "cells": [
  {
   "cell_type": "code",
   "execution_count": 1,
   "metadata": {},
   "outputs": [],
   "source": [
    "import tensorflow as tf\n",
    "import keras\n",
    "from keras import layers\n",
    "import gymnasium as gym\n",
    "import ale_py\n",
    "from gymnasium.wrappers.atari_preprocessing import AtariPreprocessing\n",
    "from gymnasium.wrappers.frame_stack import FrameStack\n",
    "from gymnasium import ObservationWrapper\n",
    "import numpy as np\n",
    "\n",
    "gym.register_envs(ale_py)"
   ]
  },
  {
   "cell_type": "code",
   "execution_count": null,
   "metadata": {},
   "outputs": [
    {
     "ename": "",
     "evalue": "",
     "output_type": "error",
     "traceback": [
      "\u001b[1;31mThe Kernel crashed while executing code in the current cell or a previous cell. \n",
      "\u001b[1;31mPlease review the code in the cell(s) to identify a possible cause of the failure. \n",
      "\u001b[1;31mClick <a href='https://aka.ms/vscodeJupyterKernelCrash'>here</a> for more info. \n",
      "\u001b[1;31mView Jupyter <a href='command:jupyter.viewOutput'>log</a> for further details."
     ]
    }
   ],
   "source": [
    "# env = gym.make('SpaceInvadersNoFrameskip-v4', render_mode='human')\n",
    "\n",
    "# observation, info = env.reset()\n",
    "\n",
    "# episode_over = False\n",
    "# while not episode_over:\n",
    "#     action = env.action_space.sample()\n",
    "#     observation, reward, terminated, truncated, info = env.step(action)\n",
    "\n",
    "#     episode_over = terminated or truncated\n",
    "\n",
    "# env.close()"
   ]
  },
  {
   "cell_type": "code",
   "execution_count": 2,
   "metadata": {},
   "outputs": [
    {
     "name": "stderr",
     "output_type": "stream",
     "text": [
      "c:\\Users\\user\\AppData\\Local\\Programs\\Python\\Python311\\Lib\\site-packages\\gymnasium\\wrappers\\record_video.py:94: UserWarning: \u001b[33mWARN: Overwriting existing videos at c:\\Users\\user\\Space_Invaders\\Code_Models\\videos folder (try specifying a different `video_folder` for the `RecordVideo` wrapper if this is not desired)\u001b[0m\n",
      "  logger.warn(\n"
     ]
    }
   ],
   "source": [
    "env = gym.make(\"SpaceInvadersNoFrameskip-v4\", render_mode=\"rgb_array\")\n",
    "env = AtariPreprocessing(env)\n",
    "env = FrameStack(env, num_stack=4)\n",
    "\n",
    "num_actions = env.action_space.n\n",
    "trigger = lambda t: t & 20\n",
    "env = gym.wrappers.RecordVideo(env, video_folder=\"./videos\", episode_trigger=trigger, disable_logger=True)"
   ]
  },
  {
   "cell_type": "code",
   "execution_count": 3,
   "metadata": {},
   "outputs": [],
   "source": [
    "def create_q_model():\n",
    "    return keras.Sequential(\n",
    "        [\n",
    "            keras.Input(shape=(84, 84, 4)),\n",
    "            layers.Conv2D(32, kernel_size=8, strides=4, activation=\"relu\"),\n",
    "            layers.Conv2D(64, kernel_size=4, strides=2, activation=\"relu\"),\n",
    "            layers.Conv2D(64, kernel_size=3, strides=1, activation=\"relu\"),\n",
    "            layers.Flatten(),\n",
    "            layers.Dense(512, activation=\"relu\"),\n",
    "            layers.Dense(num_actions, activation=\"linear\"),\n",
    "        ]\n",
    "    )"
   ]
  },
  {
   "cell_type": "code",
   "execution_count": 4,
   "metadata": {},
   "outputs": [],
   "source": [
    "model = create_q_model()\n",
    "model_target = create_q_model()\n",
    "\n",
    "optimizer = keras.optimizers.Adam(learning_rate=0.00025, clipnorm=1.0)"
   ]
  },
  {
   "cell_type": "code",
   "execution_count": 5,
   "metadata": {},
   "outputs": [],
   "source": [
    "action_history = []\n",
    "state_history = []\n",
    "state_next_history = []\n",
    "rewards_history = []\n",
    "episode_reward_history = []\n",
    "done_history = []\n",
    "running_reward = 0\n",
    "episode_count = 0\n",
    "frame_count = 0"
   ]
  },
  {
   "cell_type": "code",
   "execution_count": 6,
   "metadata": {},
   "outputs": [],
   "source": [
    "gamma = 0.99\n",
    "epsilon = 1.0\n",
    "epsilon_min = 0.1\n",
    "epsilon_max = 1.0\n",
    "epsilon_interval = epsilon_max - epsilon_min\n",
    "batch_size = 32\n",
    "\n",
    "# Maximun episodes to run, set to zero means run till solved\n",
    "max_episodes = 0\n",
    "# Max frames to run\n",
    "max_frames = 1e7\n",
    "\n",
    "# Number of frames to take random actions and observe output\n",
    "epsilon_random_frames = 50000\n",
    "# Number of frames for exploration\n",
    "epsilon_greedy_frames = 1e6\n",
    "# Maximum length of replay buffer\n",
    "max_memory_length = 1e5\n",
    "# Abort if more than the below frames are spent in a single game (results in truncated = True)\n",
    "max_steps_per_episode = 10000\n",
    "# How often should the action network be updated\n",
    "update_after_actions = 4\n",
    "# How often should the Q-network be cloned from the action network?\n",
    "update_target_network = 10000\n",
    "# Use Huber loss for stability (specifically for Adam)\n",
    "loss_function = keras.losses.Huber()"
   ]
  },
  {
   "cell_type": "code",
   "execution_count": 7,
   "metadata": {},
   "outputs": [
    {
     "name": "stdout",
     "output_type": "stream",
     "text": [
      "(None, 84, 84, 4)\n"
     ]
    }
   ],
   "source": [
    "print(model_target.input_shape)"
   ]
  },
  {
   "cell_type": "code",
   "execution_count": null,
   "metadata": {},
   "outputs": [
    {
     "name": "stdout",
     "output_type": "stream",
     "text": [
      "Solved at episode 2!\n"
     ]
    }
   ],
   "source": [
    "while True:\n",
    "    observation, _ = env.reset()\n",
    "    state = np.array(observation)\n",
    "    episode_reward = 0\n",
    "\n",
    "    for timestep in range(1, max_steps_per_episode):\n",
    "        frame_count += 1\n",
    "\n",
    "        if frame_count < epsilon_random_frames or epsilon > np.random.rand(1)[0]:\n",
    "            # Take random action\n",
    "            action = np.random.choice(num_actions)\n",
    "        else:\n",
    "            state_tensor = tf.convert_to_tensor(state, dtype=tf.float32)\n",
    "            state_tensor = tf.expand_dims(state_tensor, axis=0)  # Add batch dimension\n",
    "            action_probs = model(state_tensor, training=False)\n",
    "            # Take best action\n",
    "            action = keras.ops.argmax(action_probs[0].numpy())\n",
    "        epsilon -= epsilon_interval / epsilon_greedy_frames\n",
    "        epsilon = max(epsilon, epsilon_min)\n",
    "\n",
    "        state_next, reward, done, _, _ = env.step(action)\n",
    "        state_next = np.array(state_next)\n",
    "\n",
    "        episode_reward += reward\n",
    "\n",
    "        action_history.append(action)\n",
    "        state_history.append(state)\n",
    "        state_next_history.append(state_next)\n",
    "        done_history.append(done)\n",
    "        rewards_history.append(reward)\n",
    "        state = state_next\n",
    "\n",
    "        if frame_count % update_after_actions == 0 and len(done_history) > batch_size:\n",
    "            # get indices of samples for replay buffers\n",
    "            indices = np.random.choice(range(len(done_history)), size=batch_size)\n",
    "\n",
    "            # Prepare batches\n",
    "            state_sample = np.array([state_history[i] for i in indices])\n",
    "            state_sample = tf.transpose(state_sample, perm=[0, 2, 3, 1]) # Correct shape\n",
    "            state_sample = tf.cast(state_sample, tf.float32) # Ensure the tensor has the correct data type (float32)\n",
    "            \n",
    "            state_next_sample = np.array([state_next_history[i] for i in indices])\n",
    "            state_next_sample = tf.transpose(state_next_sample, perm=[0, 2, 3, 1]) # Correct shape\n",
    "            state_next_sample = tf.cast(state_next_sample, tf.float32) # Ensure float32\n",
    "            \n",
    "            rewards_sample = np.array([rewards_history[i] for i in indices])\n",
    "            action_sample = np.array([action_history[i] for i in indices])\n",
    "            done_sample = tf.convert_to_tensor([float(done_history[i]) for i in indices])\n",
    "\n",
    "            # Predict Q-values for the next states\n",
    "            future_rewards = model_target.predict(state_next_sample, verbose=0)\n",
    "            \n",
    "            # Update Q values\n",
    "            updated_q_values = rewards_sample + gamma * tf.reduce_max(future_rewards, axis=1)\n",
    "            updated_q_values = updated_q_values * (1 - done_sample) # Mask terminal states \n",
    "\n",
    "            # One-hot encoding of actions\n",
    "            masks = tf.one_hot(action_sample, num_actions)\n",
    "\n",
    "            with tf.GradientTape() as tape:\n",
    "                # Compute loss\n",
    "                q_values = model(state_sample)\n",
    "                q_action = tf.reduce_sum(tf.multiply(q_values, masks), axis=1)\n",
    "                loss = loss_function(updated_q_values, q_action)\n",
    "\n",
    "            # Backpropagation    \n",
    "            grads = tape.gradient(loss, model.trainable_variables)\n",
    "            optimizer.apply_gradients(zip(grads, model.trainable_variables))\n",
    "        \n",
    "        if frame_count % update_target_network == 0:\n",
    "            model_target.set_weights(model.get_weights())\n",
    "            print(f\"Best score of last 100: {np.max(episode_reward_history)}, running reward: {running_reward} at episode {episode_count}, frame {frame_count}\")\n",
    "            model.save(f\"Space-Invaders_q_model{episode_count}.keras\")\n",
    "\n",
    "        if len(rewards_history) > max_memory_length:\n",
    "            del rewards_history[:1]\n",
    "            del state_history[:1]\n",
    "            del state_next_history[:1]\n",
    "            del action_history[:1]\n",
    "            del done_history[:1]\n",
    "\n",
    "        if done:\n",
    "            break\n",
    "        \n",
    "    episode_reward_history.append(episode_reward)\n",
    "    if len(episode_reward_history) > 100:\n",
    "        del episode_reward_history[:1]\n",
    "    running_reward = np.mean(episode_reward_history)\n",
    "\n",
    "    episode_count += 1\n",
    "\n",
    "    if running_reward > 40:\n",
    "        print(f\"Solved at episode {episode_count}!\")\n",
    "        model.save(f\"Space-Invaders_q_model_solved.keras\")\n",
    "        break\n",
    "\n",
    "    if (max_episodes > 0 and episode_count >= max_episodes):\n",
    "        print(f\"Stopped at episode {episode_count}!\")\n",
    "        break\n",
    "    if (max_frames > 0 and frame_count >= max_frames):\n",
    "        print(f\"Stopped at frame {frame_count}!\")\n",
    "        break"
   ]
  },
  {
   "cell_type": "code",
   "execution_count": 15,
   "metadata": {},
   "outputs": [
    {
     "name": "stdout",
     "output_type": "stream",
     "text": [
      "(32, 84, 84, 4)\n",
      "<dtype: 'float32'>\n"
     ]
    }
   ],
   "source": [
    "print(state_sample.shape)  # Should print (32, 84, 84, 4)\n",
    "print(state_sample.dtype)  # Should print <dtype: 'float32'>\n"
   ]
  }
 ],
 "metadata": {
  "kernelspec": {
   "display_name": "Python 3",
   "language": "python",
   "name": "python3"
  },
  "language_info": {
   "codemirror_mode": {
    "name": "ipython",
    "version": 3
   },
   "file_extension": ".py",
   "mimetype": "text/x-python",
   "name": "python",
   "nbconvert_exporter": "python",
   "pygments_lexer": "ipython3",
   "version": "3.11.5"
  }
 },
 "nbformat": 4,
 "nbformat_minor": 2
}
